{
 "cells": [
  {
   "cell_type": "markdown",
   "metadata": {},
   "source": [
    "# Importing Libraries & Data"
   ]
  },
  {
   "cell_type": "code",
   "execution_count": 234,
   "metadata": {},
   "outputs": [],
   "source": [
    "import pandas as pd\n",
    "import numpy as np\n",
    "import matplotlib.pyplot as plt"
   ]
  },
  {
   "cell_type": "code",
   "execution_count": 235,
   "metadata": {},
   "outputs": [
    {
     "data": {
      "text/html": [
       "<div>\n",
       "<style scoped>\n",
       "    .dataframe tbody tr th:only-of-type {\n",
       "        vertical-align: middle;\n",
       "    }\n",
       "\n",
       "    .dataframe tbody tr th {\n",
       "        vertical-align: top;\n",
       "    }\n",
       "\n",
       "    .dataframe thead th {\n",
       "        text-align: right;\n",
       "    }\n",
       "</style>\n",
       "<table border=\"1\" class=\"dataframe\">\n",
       "  <thead>\n",
       "    <tr style=\"text-align: right;\">\n",
       "      <th></th>\n",
       "      <th>RegionID</th>\n",
       "      <th>RegionName</th>\n",
       "      <th>City</th>\n",
       "      <th>State</th>\n",
       "      <th>Metro</th>\n",
       "      <th>CountyName</th>\n",
       "      <th>SizeRank</th>\n",
       "      <th>value</th>\n",
       "    </tr>\n",
       "    <tr>\n",
       "      <th>time</th>\n",
       "      <th></th>\n",
       "      <th></th>\n",
       "      <th></th>\n",
       "      <th></th>\n",
       "      <th></th>\n",
       "      <th></th>\n",
       "      <th></th>\n",
       "      <th></th>\n",
       "    </tr>\n",
       "  </thead>\n",
       "  <tbody>\n",
       "    <tr>\n",
       "      <th>1996-04-01</th>\n",
       "      <td>84654</td>\n",
       "      <td>60657</td>\n",
       "      <td>Chicago</td>\n",
       "      <td>IL</td>\n",
       "      <td>Chicago</td>\n",
       "      <td>Cook</td>\n",
       "      <td>1</td>\n",
       "      <td>334200.0</td>\n",
       "    </tr>\n",
       "    <tr>\n",
       "      <th>1996-04-01</th>\n",
       "      <td>90668</td>\n",
       "      <td>75070</td>\n",
       "      <td>McKinney</td>\n",
       "      <td>TX</td>\n",
       "      <td>Dallas-Fort Worth</td>\n",
       "      <td>Collin</td>\n",
       "      <td>2</td>\n",
       "      <td>235700.0</td>\n",
       "    </tr>\n",
       "    <tr>\n",
       "      <th>1996-04-01</th>\n",
       "      <td>91982</td>\n",
       "      <td>77494</td>\n",
       "      <td>Katy</td>\n",
       "      <td>TX</td>\n",
       "      <td>Houston</td>\n",
       "      <td>Harris</td>\n",
       "      <td>3</td>\n",
       "      <td>210400.0</td>\n",
       "    </tr>\n",
       "    <tr>\n",
       "      <th>1996-04-01</th>\n",
       "      <td>84616</td>\n",
       "      <td>60614</td>\n",
       "      <td>Chicago</td>\n",
       "      <td>IL</td>\n",
       "      <td>Chicago</td>\n",
       "      <td>Cook</td>\n",
       "      <td>4</td>\n",
       "      <td>498100.0</td>\n",
       "    </tr>\n",
       "    <tr>\n",
       "      <th>1996-04-01</th>\n",
       "      <td>93144</td>\n",
       "      <td>79936</td>\n",
       "      <td>El Paso</td>\n",
       "      <td>TX</td>\n",
       "      <td>El Paso</td>\n",
       "      <td>El Paso</td>\n",
       "      <td>5</td>\n",
       "      <td>77300.0</td>\n",
       "    </tr>\n",
       "  </tbody>\n",
       "</table>\n",
       "</div>"
      ],
      "text/plain": [
       "            RegionID  RegionName      City State              Metro  \\\n",
       "time                                                                  \n",
       "1996-04-01     84654       60657   Chicago    IL            Chicago   \n",
       "1996-04-01     90668       75070  McKinney    TX  Dallas-Fort Worth   \n",
       "1996-04-01     91982       77494      Katy    TX            Houston   \n",
       "1996-04-01     84616       60614   Chicago    IL            Chicago   \n",
       "1996-04-01     93144       79936   El Paso    TX            El Paso   \n",
       "\n",
       "           CountyName  SizeRank     value  \n",
       "time                                       \n",
       "1996-04-01       Cook         1  334200.0  \n",
       "1996-04-01     Collin         2  235700.0  \n",
       "1996-04-01     Harris         3  210400.0  \n",
       "1996-04-01       Cook         4  498100.0  \n",
       "1996-04-01    El Paso         5   77300.0  "
      ]
     },
     "execution_count": 235,
     "metadata": {},
     "output_type": "execute_result"
    }
   ],
   "source": [
    "df_lf = pd.read_csv('../../src/data/df_lf_arima.csv', index_col='time', parse_dates=['time'])\n",
    "df_lf.head()"
   ]
  },
  {
   "cell_type": "markdown",
   "metadata": {},
   "source": [
    "---\n",
    "\n",
    "# FSM- Random Walk Model\n",
    "\n",
    "### only doing zip code **60657**"
   ]
  },
  {
   "cell_type": "code",
   "execution_count": 236,
   "metadata": {},
   "outputs": [
    {
     "data": {
      "text/html": [
       "<div>\n",
       "<style scoped>\n",
       "    .dataframe tbody tr th:only-of-type {\n",
       "        vertical-align: middle;\n",
       "    }\n",
       "\n",
       "    .dataframe tbody tr th {\n",
       "        vertical-align: top;\n",
       "    }\n",
       "\n",
       "    .dataframe thead th {\n",
       "        text-align: right;\n",
       "    }\n",
       "</style>\n",
       "<table border=\"1\" class=\"dataframe\">\n",
       "  <thead>\n",
       "    <tr style=\"text-align: right;\">\n",
       "      <th></th>\n",
       "      <th>RegionID</th>\n",
       "      <th>RegionName</th>\n",
       "      <th>City</th>\n",
       "      <th>State</th>\n",
       "      <th>Metro</th>\n",
       "      <th>CountyName</th>\n",
       "      <th>SizeRank</th>\n",
       "      <th>value</th>\n",
       "    </tr>\n",
       "    <tr>\n",
       "      <th>time</th>\n",
       "      <th></th>\n",
       "      <th></th>\n",
       "      <th></th>\n",
       "      <th></th>\n",
       "      <th></th>\n",
       "      <th></th>\n",
       "      <th></th>\n",
       "      <th></th>\n",
       "    </tr>\n",
       "  </thead>\n",
       "  <tbody>\n",
       "    <tr>\n",
       "      <th>1996-04-01</th>\n",
       "      <td>84654</td>\n",
       "      <td>60657</td>\n",
       "      <td>Chicago</td>\n",
       "      <td>IL</td>\n",
       "      <td>Chicago</td>\n",
       "      <td>Cook</td>\n",
       "      <td>1</td>\n",
       "      <td>334200.0</td>\n",
       "    </tr>\n",
       "    <tr>\n",
       "      <th>1996-05-01</th>\n",
       "      <td>84654</td>\n",
       "      <td>60657</td>\n",
       "      <td>Chicago</td>\n",
       "      <td>IL</td>\n",
       "      <td>Chicago</td>\n",
       "      <td>Cook</td>\n",
       "      <td>1</td>\n",
       "      <td>335400.0</td>\n",
       "    </tr>\n",
       "    <tr>\n",
       "      <th>1996-06-01</th>\n",
       "      <td>84654</td>\n",
       "      <td>60657</td>\n",
       "      <td>Chicago</td>\n",
       "      <td>IL</td>\n",
       "      <td>Chicago</td>\n",
       "      <td>Cook</td>\n",
       "      <td>1</td>\n",
       "      <td>336500.0</td>\n",
       "    </tr>\n",
       "    <tr>\n",
       "      <th>1996-07-01</th>\n",
       "      <td>84654</td>\n",
       "      <td>60657</td>\n",
       "      <td>Chicago</td>\n",
       "      <td>IL</td>\n",
       "      <td>Chicago</td>\n",
       "      <td>Cook</td>\n",
       "      <td>1</td>\n",
       "      <td>337600.0</td>\n",
       "    </tr>\n",
       "    <tr>\n",
       "      <th>1996-08-01</th>\n",
       "      <td>84654</td>\n",
       "      <td>60657</td>\n",
       "      <td>Chicago</td>\n",
       "      <td>IL</td>\n",
       "      <td>Chicago</td>\n",
       "      <td>Cook</td>\n",
       "      <td>1</td>\n",
       "      <td>338500.0</td>\n",
       "    </tr>\n",
       "  </tbody>\n",
       "</table>\n",
       "</div>"
      ],
      "text/plain": [
       "            RegionID  RegionName     City State    Metro CountyName  SizeRank  \\\n",
       "time                                                                            \n",
       "1996-04-01     84654       60657  Chicago    IL  Chicago       Cook         1   \n",
       "1996-05-01     84654       60657  Chicago    IL  Chicago       Cook         1   \n",
       "1996-06-01     84654       60657  Chicago    IL  Chicago       Cook         1   \n",
       "1996-07-01     84654       60657  Chicago    IL  Chicago       Cook         1   \n",
       "1996-08-01     84654       60657  Chicago    IL  Chicago       Cook         1   \n",
       "\n",
       "               value  \n",
       "time                  \n",
       "1996-04-01  334200.0  \n",
       "1996-05-01  335400.0  \n",
       "1996-06-01  336500.0  \n",
       "1996-07-01  337600.0  \n",
       "1996-08-01  338500.0  "
      ]
     },
     "execution_count": 236,
     "metadata": {},
     "output_type": "execute_result"
    }
   ],
   "source": [
    "# isolating zip code 60657\n",
    "\n",
    "df_60657 = df_lf[(df_lf.RegionName == 60657)]\n",
    "df_60657.head()"
   ]
  },
  {
   "cell_type": "code",
   "execution_count": 237,
   "metadata": {},
   "outputs": [
    {
     "data": {
      "text/plain": [
       "(265, 8)"
      ]
     },
     "execution_count": 237,
     "metadata": {},
     "output_type": "execute_result"
    }
   ],
   "source": [
    "# checking shape\n",
    "\n",
    "df_60657.shape"
   ]
  },
  {
   "cell_type": "code",
   "execution_count": 238,
   "metadata": {},
   "outputs": [],
   "source": [
    "# creating train/test split\n",
    "\n",
    "eotindex_df_60657 = round(df_60657.shape[0] * 0.8)\n",
    "\n",
    "df_60657_train = df_60657.value[:eotindex_df_60657]\n",
    "df_60657_test = df_60657.value[eotindex_df_60657:]"
   ]
  },
  {
   "cell_type": "code",
   "execution_count": 239,
   "metadata": {},
   "outputs": [],
   "source": [
    "random_walk = df_60657_train.shift(1)"
   ]
  },
  {
   "cell_type": "code",
   "execution_count": 240,
   "metadata": {},
   "outputs": [
    {
     "data": {
      "text/plain": [
       "time\n",
       "1996-04-01    334200.0\n",
       "1996-05-01    335400.0\n",
       "1996-06-01    336500.0\n",
       "1996-07-01    337600.0\n",
       "1996-08-01    338500.0\n",
       "Name: value, dtype: float64"
      ]
     },
     "execution_count": 240,
     "metadata": {},
     "output_type": "execute_result"
    }
   ],
   "source": [
    "df_60657_train.head()"
   ]
  },
  {
   "cell_type": "code",
   "execution_count": 241,
   "metadata": {},
   "outputs": [
    {
     "data": {
      "text/plain": [
       "time\n",
       "1996-04-01         NaN\n",
       "1996-05-01    334200.0\n",
       "1996-06-01    335400.0\n",
       "1996-07-01    336500.0\n",
       "1996-08-01    337600.0\n",
       "Name: value, dtype: float64"
      ]
     },
     "execution_count": 241,
     "metadata": {},
     "output_type": "execute_result"
    }
   ],
   "source": [
    "random_walk.head()"
   ]
  },
  {
   "cell_type": "code",
   "execution_count": 242,
   "metadata": {},
   "outputs": [
    {
     "data": {
      "text/plain": [
       "time\n",
       "1996-05-01    334200.0\n",
       "1996-06-01    335400.0\n",
       "1996-07-01    336500.0\n",
       "1996-08-01    337600.0\n",
       "1996-09-01    338500.0\n",
       "Name: value, dtype: float64"
      ]
     },
     "execution_count": 242,
     "metadata": {},
     "output_type": "execute_result"
    }
   ],
   "source": [
    "random_walk.dropna().head()"
   ]
  },
  {
   "cell_type": "code",
   "execution_count": 243,
   "metadata": {},
   "outputs": [
    {
     "data": {
      "text/plain": [
       "5057.611222664396"
      ]
     },
     "execution_count": 243,
     "metadata": {},
     "output_type": "execute_result"
    }
   ],
   "source": [
    "# getting rmse between train[1:] and random_walk\n",
    "\n",
    "from sklearn.metrics import mean_squared_error\n",
    "import numpy as np\n",
    "\n",
    "np.sqrt(mean_squared_error(df_60657_train[1:], random_walk.dropna()))"
   ]
  },
  {
   "cell_type": "code",
   "execution_count": 245,
   "metadata": {},
   "outputs": [
    {
     "name": "stdout",
     "output_type": "stream",
     "text": [
      "                             ARIMA Model Results                              \n",
      "==============================================================================\n",
      "Dep. Variable:                D.value   No. Observations:                  211\n",
      "Model:                 ARIMA(0, 1, 0)   Log Likelihood               -2070.318\n",
      "Method:                           css   S.D. of innovations           4416.019\n",
      "Date:                Tue, 10 Nov 2020   AIC                           4144.635\n",
      "Time:                        22:57:07   BIC                           4151.339\n",
      "Sample:                    05-01-1996   HQIC                          4147.345\n",
      "                         - 11-01-2013                                         \n",
      "==============================================================================\n",
      "                 coef    std err          z      P>|z|      [0.025      0.975]\n",
      "------------------------------------------------------------------------------\n",
      "const       2465.4028    304.011      8.110      0.000    1869.552    3061.254\n",
      "==============================================================================\n",
      "4416.018579940594\n",
      "33134.3550595611\n"
     ]
    }
   ],
   "source": [
    "from statsmodels.tsa.arima_model import ARIMA\n",
    "\n",
    "rw = ARIMA(df_60657_train, (0,1,0), freq='MS').fit()\n",
    "y_hat_rw = rw.predict(typ='levels')\n",
    "rmse_rw = np.sqrt(mean_squared_error(df_60657_train[1:], y_hat_rw))\n",
    "\n",
    "y_hat_test_rw = rw.predict(start='2013-12-01', end='2018-04-01', typ='levels')\n",
    "rmse_test_rw = np.sqrt(mean_squared_error(df_60657_test, y_hat_test_rw))\n",
    "\n",
    "print(rw.summary())\n",
    "print(rmse_rw)\n",
    "print(rmse_test_rw)"
   ]
  },
  {
   "cell_type": "markdown",
   "metadata": {},
   "source": [
    "---"
   ]
  },
  {
   "cell_type": "code",
   "execution_count": 80,
   "metadata": {},
   "outputs": [
    {
     "data": {
      "text/plain": [
       "time\n",
       "1996-04-01    334200.0\n",
       "1996-05-01    335400.0\n",
       "1996-06-01    336500.0\n",
       "1996-07-01    337600.0\n",
       "1996-08-01    338500.0\n",
       "                ...   \n",
       "2013-07-01    848100.0\n",
       "2013-08-01    853800.0\n",
       "2013-09-01    856700.0\n",
       "2013-10-01    856600.0\n",
       "2013-11-01    854400.0\n",
       "Name: value, Length: 212, dtype: float64"
      ]
     },
     "execution_count": 80,
     "metadata": {},
     "output_type": "execute_result"
    }
   ],
   "source": [
    "df_60657_train"
   ]
  },
  {
   "cell_type": "code",
   "execution_count": 89,
   "metadata": {},
   "outputs": [
    {
     "name": "stdout",
     "output_type": "stream",
     "text": [
      "                             ARIMA Model Results                              \n",
      "==============================================================================\n",
      "Dep. Variable:               D2.value   No. Observations:                  210\n",
      "Model:                 ARIMA(2, 2, 4)   Log Likelihood               -1765.571\n",
      "Method:                       css-mle   S.D. of innovations           1075.882\n",
      "Date:                Tue, 10 Nov 2020   AIC                           3547.142\n",
      "Time:                        16:17:29   BIC                           3573.918\n",
      "Sample:                    06-01-1996   HQIC                          3557.967\n",
      "                         - 11-01-2013                                         \n",
      "==================================================================================\n",
      "                     coef    std err          z      P>|z|      [0.025      0.975]\n",
      "----------------------------------------------------------------------------------\n",
      "const             -0.0863     67.355     -0.001      0.999    -132.100     131.928\n",
      "ar.L1.D2.value     0.3530      0.297      1.188      0.235      -0.230       0.936\n",
      "ar.L2.D2.value     0.2387      0.115      2.077      0.038       0.013       0.464\n",
      "ma.L1.D2.value     0.3881      0.291      1.332      0.183      -0.183       0.959\n",
      "ma.L2.D2.value    -0.7585      0.277     -2.742      0.006      -1.301      -0.216\n",
      "ma.L3.D2.value    -0.5807      0.078     -7.465      0.000      -0.733      -0.428\n",
      "ma.L4.D2.value     0.3162      0.183      1.728      0.084      -0.042       0.675\n",
      "                                    Roots                                    \n",
      "=============================================================================\n",
      "                  Real          Imaginary           Modulus         Frequency\n",
      "-----------------------------------------------------------------------------\n",
      "AR.1            1.4368           +0.0000j            1.4368            0.0000\n",
      "AR.2           -2.9155           +0.0000j            2.9155            0.5000\n",
      "MA.1           -0.8860           -0.5502j            1.0430           -0.4116\n",
      "MA.2           -0.8860           +0.5502j            1.0430            0.4116\n",
      "MA.3            1.2146           -0.0000j            1.2146           -0.0000\n",
      "MA.4            2.3941           -0.0000j            2.3941           -0.0000\n",
      "-----------------------------------------------------------------------------\n",
      "1076.2504859139142\n",
      "79385.49464819464\n"
     ]
    }
   ],
   "source": [
    "i2 = ARIMA(df_60657_train, (2,2,4), freq='MS').fit()\n",
    "y_hat_i2 = i2.predict(typ='levels')\n",
    "rmse_i2 = np.sqrt(mean_squared_error(df_60657_train[2:], y_hat_i2))\n",
    "\n",
    "y_hat_i2_test = i2.predict(start='2013-12-01', end='2018-04-01', typ='levels')\n",
    "rmse_i2_test = np.sqrt(mean_squared_error(df_60657_test, y_hat_i2_test))\n",
    "\n",
    "print(i2.summary())\n",
    "print(rmse_i2)\n",
    "print(rmse_i2_test)"
   ]
  },
  {
   "cell_type": "code",
   "execution_count": 92,
   "metadata": {},
   "outputs": [
    {
     "data": {
      "text/plain": [
       "[<matplotlib.lines.Line2D at 0x7fdd0d0b8640>]"
      ]
     },
     "execution_count": 92,
     "metadata": {},
     "output_type": "execute_result"
    },
    {
     "data": {
      "image/png": "[encoded data removed]",
      "text/plain": [
       "<Figure size 1008x360 with 1 Axes>"
      ]
     },
     "metadata": {
      "needs_background": "light"
     },
     "output_type": "display_data"
    }
   ],
   "source": [
    "plt.subplots(figsize=(14,5))\n",
    "plt.plot(df_60657_train)\n",
    "plt.plot(df_60657_test)\n",
    "plt.plot(y_hat_i2_test)"
   ]
  },
  {
   "cell_type": "markdown",
   "metadata": {},
   "source": [
    "---"
   ]
  },
  {
   "cell_type": "code",
   "execution_count": 26,
   "metadata": {},
   "outputs": [
    {
     "name": "stdout",
     "output_type": "stream",
     "text": [
      "                             ARIMA Model Results                              \n",
      "==============================================================================\n",
      "Dep. Variable:                D.value   No. Observations:                  211\n",
      "Model:                 ARIMA(1, 1, 0)   Log Likelihood               -1831.153\n",
      "Method:                       css-mle   S.D. of innovations           1414.020\n",
      "Date:                Tue, 10 Nov 2020   AIC                           3668.307\n",
      "Time:                        12:17:37   BIC                           3678.363\n",
      "Sample:                    05-01-1996   HQIC                          3672.372\n",
      "                         - 11-01-2013                                         \n",
      "=================================================================================\n",
      "                    coef    std err          z      P>|z|      [0.025      0.975]\n",
      "---------------------------------------------------------------------------------\n",
      "const          2098.3687   1662.053      1.263      0.207   -1159.194    5355.932\n",
      "ar.L1.D.value     0.9456      0.021     44.564      0.000       0.904       0.987\n",
      "                                    Roots                                    \n",
      "=============================================================================\n",
      "                  Real          Imaginary           Modulus         Frequency\n",
      "-----------------------------------------------------------------------------\n",
      "AR.1            1.0575           +0.0000j            1.0575            0.0000\n",
      "-----------------------------------------------------------------------------\n",
      "1415.2285558262665\n",
      "98250.83876977155\n"
     ]
    }
   ],
   "source": [
    "ar1 = ARIMA(df_60657_train, (1,1,0), freq='MS').fit()\n",
    "y_hat_ar1 = ar1.predict(typ='levels')\n",
    "rmse_ar1 = np.sqrt(mean_squared_error(df_60657_train[1:], y_hat_ar1))\n",
    "\n",
    "y_hat_test_ar1 = ar1.predict(start='2013-12-01', end='2018-04-01', typ='levels')\n",
    "rmse_test_ar1 = np.sqrt(mean_squared_error(df_60657_test, y_hat_test_ar1))\n",
    "\n",
    "print(ar1.summary())\n",
    "print(rmse_ar1)\n",
    "print(rmse_test_ar1)"
   ]
  },
  {
   "cell_type": "markdown",
   "metadata": {},
   "source": [
    "---"
   ]
  },
  {
   "cell_type": "code",
   "execution_count": 27,
   "metadata": {},
   "outputs": [
    {
     "name": "stdout",
     "output_type": "stream",
     "text": [
      "                             ARIMA Model Results                              \n",
      "==============================================================================\n",
      "Dep. Variable:                D.value   No. Observations:                  211\n",
      "Model:                 ARIMA(2, 1, 0)   Log Likelihood               -1817.560\n",
      "Method:                       css-mle   S.D. of innovations           1324.902\n",
      "Date:                Tue, 10 Nov 2020   AIC                           3643.120\n",
      "Time:                        12:17:38   BIC                           3656.527\n",
      "Sample:                    05-01-1996   HQIC                          3648.539\n",
      "                         - 11-01-2013                                         \n",
      "=================================================================================\n",
      "                    coef    std err          z      P>|z|      [0.025      0.975]\n",
      "---------------------------------------------------------------------------------\n",
      "const          2226.9773   1232.138      1.807      0.071    -187.969    4641.924\n",
      "ar.L1.D.value     1.2769      0.065     19.788      0.000       1.150       1.403\n",
      "ar.L2.D.value    -0.3484      0.065     -5.396      0.000      -0.475      -0.222\n",
      "                                    Roots                                    \n",
      "=============================================================================\n",
      "                  Real          Imaginary           Modulus         Frequency\n",
      "-----------------------------------------------------------------------------\n",
      "AR.1            1.1339           +0.0000j            1.1339            0.0000\n",
      "AR.2            2.5316           +0.0000j            2.5316            0.0000\n",
      "-----------------------------------------------------------------------------\n",
      "1326.6212480746779\n",
      "79799.8258968787\n"
     ]
    }
   ],
   "source": [
    "ar2 = ARIMA(df_60657_train, (2,1,0), freq='MS').fit()\n",
    "y_hat_ar2 = ar2.predict(typ='levels')\n",
    "rmse_ar2 = np.sqrt(mean_squared_error(df_60657_train[1:], y_hat_ar2))\n",
    "\n",
    "y_hat_test_ar2 = ar2.predict(start='2013-12-01', end='2018-04-01', typ='levels')\n",
    "rmse_test_ar2 = np.sqrt(mean_squared_error(df_60657_test, y_hat_test_ar2))\n",
    "\n",
    "print(ar2.summary())\n",
    "print(rmse_ar2)\n",
    "print(rmse_test_ar2)"
   ]
  },
  {
   "cell_type": "code",
   "execution_count": 28,
   "metadata": {},
   "outputs": [
    {
     "name": "stdout",
     "output_type": "stream",
     "text": [
      "4416.018579940594\n",
      "1415.2285558262665\n",
      "1326.6212480746779\n"
     ]
    }
   ],
   "source": [
    "print(rmse_rw)\n",
    "print(rmse_ar1)\n",
    "print(rmse_ar2)"
   ]
  },
  {
   "cell_type": "code",
   "execution_count": 29,
   "metadata": {},
   "outputs": [
    {
     "name": "stdout",
     "output_type": "stream",
     "text": [
      "33134.3550595611\n",
      "98250.83876977155\n",
      "79799.8258968787\n"
     ]
    }
   ],
   "source": [
    "print(rmse_test_rw)\n",
    "print(rmse_test_ar1)\n",
    "print(rmse_test_ar2)"
   ]
  },
  {
   "cell_type": "markdown",
   "metadata": {},
   "source": [
    "---\n",
    "\n",
    "# FSM post 2010"
   ]
  },
  {
   "cell_type": "code",
   "execution_count": 30,
   "metadata": {},
   "outputs": [
    {
     "data": {
      "image/png": "[encoded data removed]",
      "text/plain": [
       "<Figure size 432x288 with 1 Axes>"
      ]
     },
     "metadata": {
      "needs_background": "light"
     },
     "output_type": "display_data"
    }
   ],
   "source": [
    "plt.plot(df_lf[(df_lf.RegionName == 60657) & (df_lf.index.year >= 2010)]['value']);"
   ]
  },
  {
   "cell_type": "code",
   "execution_count": 31,
   "metadata": {},
   "outputs": [
    {
     "data": {
      "text/html": [
       "<div>\n",
       "<style scoped>\n",
       "    .dataframe tbody tr th:only-of-type {\n",
       "        vertical-align: middle;\n",
       "    }\n",
       "\n",
       "    .dataframe tbody tr th {\n",
       "        vertical-align: top;\n",
       "    }\n",
       "\n",
       "    .dataframe thead th {\n",
       "        text-align: right;\n",
       "    }\n",
       "</style>\n",
       "<table border=\"1\" class=\"dataframe\">\n",
       "  <thead>\n",
       "    <tr style=\"text-align: right;\">\n",
       "      <th></th>\n",
       "      <th>RegionID</th>\n",
       "      <th>RegionName</th>\n",
       "      <th>City</th>\n",
       "      <th>State</th>\n",
       "      <th>Metro</th>\n",
       "      <th>CountyName</th>\n",
       "      <th>SizeRank</th>\n",
       "      <th>value</th>\n",
       "    </tr>\n",
       "    <tr>\n",
       "      <th>time</th>\n",
       "      <th></th>\n",
       "      <th></th>\n",
       "      <th></th>\n",
       "      <th></th>\n",
       "      <th></th>\n",
       "      <th></th>\n",
       "      <th></th>\n",
       "      <th></th>\n",
       "    </tr>\n",
       "  </thead>\n",
       "  <tbody>\n",
       "    <tr>\n",
       "      <th>1996-04-01</th>\n",
       "      <td>84654</td>\n",
       "      <td>60657</td>\n",
       "      <td>Chicago</td>\n",
       "      <td>IL</td>\n",
       "      <td>Chicago</td>\n",
       "      <td>Cook</td>\n",
       "      <td>1</td>\n",
       "      <td>334200.0</td>\n",
       "    </tr>\n",
       "    <tr>\n",
       "      <th>1996-05-01</th>\n",
       "      <td>84654</td>\n",
       "      <td>60657</td>\n",
       "      <td>Chicago</td>\n",
       "      <td>IL</td>\n",
       "      <td>Chicago</td>\n",
       "      <td>Cook</td>\n",
       "      <td>1</td>\n",
       "      <td>335400.0</td>\n",
       "    </tr>\n",
       "    <tr>\n",
       "      <th>1996-06-01</th>\n",
       "      <td>84654</td>\n",
       "      <td>60657</td>\n",
       "      <td>Chicago</td>\n",
       "      <td>IL</td>\n",
       "      <td>Chicago</td>\n",
       "      <td>Cook</td>\n",
       "      <td>1</td>\n",
       "      <td>336500.0</td>\n",
       "    </tr>\n",
       "    <tr>\n",
       "      <th>1996-07-01</th>\n",
       "      <td>84654</td>\n",
       "      <td>60657</td>\n",
       "      <td>Chicago</td>\n",
       "      <td>IL</td>\n",
       "      <td>Chicago</td>\n",
       "      <td>Cook</td>\n",
       "      <td>1</td>\n",
       "      <td>337600.0</td>\n",
       "    </tr>\n",
       "    <tr>\n",
       "      <th>1996-08-01</th>\n",
       "      <td>84654</td>\n",
       "      <td>60657</td>\n",
       "      <td>Chicago</td>\n",
       "      <td>IL</td>\n",
       "      <td>Chicago</td>\n",
       "      <td>Cook</td>\n",
       "      <td>1</td>\n",
       "      <td>338500.0</td>\n",
       "    </tr>\n",
       "  </tbody>\n",
       "</table>\n",
       "</div>"
      ],
      "text/plain": [
       "            RegionID  RegionName     City State    Metro CountyName  SizeRank  \\\n",
       "time                                                                            \n",
       "1996-04-01     84654       60657  Chicago    IL  Chicago       Cook         1   \n",
       "1996-05-01     84654       60657  Chicago    IL  Chicago       Cook         1   \n",
       "1996-06-01     84654       60657  Chicago    IL  Chicago       Cook         1   \n",
       "1996-07-01     84654       60657  Chicago    IL  Chicago       Cook         1   \n",
       "1996-08-01     84654       60657  Chicago    IL  Chicago       Cook         1   \n",
       "\n",
       "               value  \n",
       "time                  \n",
       "1996-04-01  334200.0  \n",
       "1996-05-01  335400.0  \n",
       "1996-06-01  336500.0  \n",
       "1996-07-01  337600.0  \n",
       "1996-08-01  338500.0  "
      ]
     },
     "execution_count": 31,
     "metadata": {},
     "output_type": "execute_result"
    }
   ],
   "source": [
    "df_60657.head()"
   ]
  },
  {
   "cell_type": "code",
   "execution_count": 32,
   "metadata": {},
   "outputs": [],
   "source": [
    "df_60657_post_2010 = df_60657[df_60657.index.year >= 2010]\n",
    "eotindex_df_60657_post_2010 = round(df_60657_post_2010.shape[0] * 0.8)\n",
    "df_60657_post_2010_train = df_60657_post_2010.value[:eotindex_df_60657_post_2010]\n",
    "df_60657_post_2010_test = df_60657_post_2010.value[eotindex_df_60657_post_2010:]"
   ]
  },
  {
   "cell_type": "code",
   "execution_count": 33,
   "metadata": {},
   "outputs": [
    {
     "data": {
      "text/html": [
       "<div>\n",
       "<style scoped>\n",
       "    .dataframe tbody tr th:only-of-type {\n",
       "        vertical-align: middle;\n",
       "    }\n",
       "\n",
       "    .dataframe tbody tr th {\n",
       "        vertical-align: top;\n",
       "    }\n",
       "\n",
       "    .dataframe thead th {\n",
       "        text-align: right;\n",
       "    }\n",
       "</style>\n",
       "<table border=\"1\" class=\"dataframe\">\n",
       "  <thead>\n",
       "    <tr style=\"text-align: right;\">\n",
       "      <th></th>\n",
       "      <th>RegionID</th>\n",
       "      <th>RegionName</th>\n",
       "      <th>City</th>\n",
       "      <th>State</th>\n",
       "      <th>Metro</th>\n",
       "      <th>CountyName</th>\n",
       "      <th>SizeRank</th>\n",
       "      <th>value</th>\n",
       "    </tr>\n",
       "    <tr>\n",
       "      <th>time</th>\n",
       "      <th></th>\n",
       "      <th></th>\n",
       "      <th></th>\n",
       "      <th></th>\n",
       "      <th></th>\n",
       "      <th></th>\n",
       "      <th></th>\n",
       "      <th></th>\n",
       "    </tr>\n",
       "  </thead>\n",
       "  <tbody>\n",
       "    <tr>\n",
       "      <th>2010-01-01</th>\n",
       "      <td>84654</td>\n",
       "      <td>60657</td>\n",
       "      <td>Chicago</td>\n",
       "      <td>IL</td>\n",
       "      <td>Chicago</td>\n",
       "      <td>Cook</td>\n",
       "      <td>1</td>\n",
       "      <td>775600.0</td>\n",
       "    </tr>\n",
       "    <tr>\n",
       "      <th>2010-02-01</th>\n",
       "      <td>84654</td>\n",
       "      <td>60657</td>\n",
       "      <td>Chicago</td>\n",
       "      <td>IL</td>\n",
       "      <td>Chicago</td>\n",
       "      <td>Cook</td>\n",
       "      <td>1</td>\n",
       "      <td>777800.0</td>\n",
       "    </tr>\n",
       "    <tr>\n",
       "      <th>2010-03-01</th>\n",
       "      <td>84654</td>\n",
       "      <td>60657</td>\n",
       "      <td>Chicago</td>\n",
       "      <td>IL</td>\n",
       "      <td>Chicago</td>\n",
       "      <td>Cook</td>\n",
       "      <td>1</td>\n",
       "      <td>775200.0</td>\n",
       "    </tr>\n",
       "    <tr>\n",
       "      <th>2010-04-01</th>\n",
       "      <td>84654</td>\n",
       "      <td>60657</td>\n",
       "      <td>Chicago</td>\n",
       "      <td>IL</td>\n",
       "      <td>Chicago</td>\n",
       "      <td>Cook</td>\n",
       "      <td>1</td>\n",
       "      <td>767900.0</td>\n",
       "    </tr>\n",
       "    <tr>\n",
       "      <th>2010-05-01</th>\n",
       "      <td>84654</td>\n",
       "      <td>60657</td>\n",
       "      <td>Chicago</td>\n",
       "      <td>IL</td>\n",
       "      <td>Chicago</td>\n",
       "      <td>Cook</td>\n",
       "      <td>1</td>\n",
       "      <td>764700.0</td>\n",
       "    </tr>\n",
       "  </tbody>\n",
       "</table>\n",
       "</div>"
      ],
      "text/plain": [
       "            RegionID  RegionName     City State    Metro CountyName  SizeRank  \\\n",
       "time                                                                            \n",
       "2010-01-01     84654       60657  Chicago    IL  Chicago       Cook         1   \n",
       "2010-02-01     84654       60657  Chicago    IL  Chicago       Cook         1   \n",
       "2010-03-01     84654       60657  Chicago    IL  Chicago       Cook         1   \n",
       "2010-04-01     84654       60657  Chicago    IL  Chicago       Cook         1   \n",
       "2010-05-01     84654       60657  Chicago    IL  Chicago       Cook         1   \n",
       "\n",
       "               value  \n",
       "time                  \n",
       "2010-01-01  775600.0  \n",
       "2010-02-01  777800.0  \n",
       "2010-03-01  775200.0  \n",
       "2010-04-01  767900.0  \n",
       "2010-05-01  764700.0  "
      ]
     },
     "execution_count": 33,
     "metadata": {},
     "output_type": "execute_result"
    }
   ],
   "source": [
    "df_60657_post_2010.head()"
   ]
  },
  {
   "cell_type": "code",
   "execution_count": 34,
   "metadata": {},
   "outputs": [
    {
     "name": "stdout",
     "output_type": "stream",
     "text": [
      "(80,) (20,)\n"
     ]
    }
   ],
   "source": [
    "print(df_60657_post_2010_train.shape, df_60657_post_2010_test.shape)"
   ]
  },
  {
   "cell_type": "code",
   "execution_count": 35,
   "metadata": {},
   "outputs": [
    {
     "data": {
      "text/plain": [
       "time\n",
       "2016-09-01     980800.0\n",
       "2016-10-01     988000.0\n",
       "2016-11-01     994700.0\n",
       "2016-12-01     998700.0\n",
       "2017-01-01     997000.0\n",
       "2017-02-01     993700.0\n",
       "2017-03-01     991300.0\n",
       "2017-04-01     989200.0\n",
       "2017-05-01     991300.0\n",
       "2017-06-01     999100.0\n",
       "2017-07-01    1005500.0\n",
       "2017-08-01    1007500.0\n",
       "2017-09-01    1007800.0\n",
       "2017-10-01    1009600.0\n",
       "2017-11-01    1013300.0\n",
       "2017-12-01    1018700.0\n",
       "2018-01-01    1024400.0\n",
       "2018-02-01    1030700.0\n",
       "2018-03-01    1033800.0\n",
       "2018-04-01    1030600.0\n",
       "Name: value, dtype: float64"
      ]
     },
     "execution_count": 35,
     "metadata": {},
     "output_type": "execute_result"
    }
   ],
   "source": [
    "df_60657_post_2010_test"
   ]
  },
  {
   "cell_type": "code",
   "execution_count": 36,
   "metadata": {},
   "outputs": [
    {
     "name": "stdout",
     "output_type": "stream",
     "text": [
      "                             ARIMA Model Results                              \n",
      "==============================================================================\n",
      "Dep. Variable:                D.value   No. Observations:                   79\n",
      "Model:                 ARIMA(0, 1, 0)   Log Likelihood                -779.049\n",
      "Method:                           css   S.D. of innovations           4639.841\n",
      "Date:                Tue, 10 Nov 2020   AIC                           1562.097\n",
      "Time:                        12:17:40   BIC                           1566.836\n",
      "Sample:                    02-01-2010   HQIC                          1563.996\n",
      "                         - 08-01-2016                                         \n",
      "==============================================================================\n",
      "                 coef    std err          z      P>|z|      [0.025      0.975]\n",
      "------------------------------------------------------------------------------\n",
      "const       2515.1899    522.023      4.818      0.000    1492.044    3538.336\n",
      "==============================================================================\n",
      "4639.840913019034\n",
      "7191.780818707958\n"
     ]
    }
   ],
   "source": [
    "rw_2010 = ARIMA(df_60657_post_2010_train, (0,1,0), freq='MS').fit()\n",
    "y_hat_rw_2010 = rw_2010.predict(typ='levels')\n",
    "rmse_rw_2010 = np.sqrt(mean_squared_error(df_60657_post_2010_train[1:], y_hat_rw_2010))\n",
    "\n",
    "y_hat_rw_2010_test = rw_2010.predict(start='2016-09-01', end='2018-04-01', typ='levels')\n",
    "rmse_rw_2010_test = np.sqrt(mean_squared_error(df_60657_post_2010_test, y_hat_rw_2010_test))\n",
    "\n",
    "print(rw_2010.summary())\n",
    "print(rmse_rw_2010)\n",
    "print(rmse_rw_2010_test)"
   ]
  },
  {
   "cell_type": "code",
   "execution_count": 37,
   "metadata": {},
   "outputs": [
    {
     "name": "stdout",
     "output_type": "stream",
     "text": [
      "                             ARIMA Model Results                              \n",
      "==============================================================================\n",
      "Dep. Variable:                D.value   No. Observations:                   79\n",
      "Model:                 ARIMA(1, 1, 0)   Log Likelihood                -739.563\n",
      "Method:                       css-mle   S.D. of innovations           2797.462\n",
      "Date:                Tue, 10 Nov 2020   AIC                           1485.126\n",
      "Time:                        12:17:40   BIC                           1492.235\n",
      "Sample:                    02-01-2010   HQIC                          1487.974\n",
      "                         - 08-01-2016                                         \n",
      "=================================================================================\n",
      "                    coef    std err          z      P>|z|      [0.025      0.975]\n",
      "---------------------------------------------------------------------------------\n",
      "const          2495.3877   1422.421      1.754      0.079    -292.506    5283.282\n",
      "ar.L1.D.value     0.7885      0.066     11.918      0.000       0.659       0.918\n",
      "                                    Roots                                    \n",
      "=============================================================================\n",
      "                  Real          Imaginary           Modulus         Frequency\n",
      "-----------------------------------------------------------------------------\n",
      "AR.1            1.2683           +0.0000j            1.2683            0.0000\n",
      "-----------------------------------------------------------------------------\n",
      "2797.5845159676855\n",
      "9002.837243025557\n"
     ]
    }
   ],
   "source": [
    "ar1_2010 = ARIMA(df_60657_post_2010_train, (1,1,0), freq='MS').fit()\n",
    "y_hat_ar1_2010 = ar1_2010.predict(typ='levels')\n",
    "rmse_ar1_2010 = np.sqrt(mean_squared_error(df_60657_post_2010_train[1:], y_hat_ar1_2010))\n",
    "\n",
    "y_hat_ar1_2010_test = ar1_2010.predict(start='2016-09-01', end='2018-04-01', typ='levels')\n",
    "rmse_ar1_2010_test = np.sqrt(mean_squared_error(df_60657_post_2010_test, y_hat_ar1_2010_test))\n",
    "\n",
    "print(ar1_2010.summary())\n",
    "print(rmse_ar1_2010)\n",
    "print(rmse_ar1_2010_test)"
   ]
  },
  {
   "cell_type": "code",
   "execution_count": 38,
   "metadata": {},
   "outputs": [
    {
     "name": "stdout",
     "output_type": "stream",
     "text": [
      "                             ARIMA Model Results                              \n",
      "==============================================================================\n",
      "Dep. Variable:                D.value   No. Observations:                   79\n",
      "Model:                 ARIMA(2, 1, 0)   Log Likelihood                -732.150\n",
      "Method:                       css-mle   S.D. of innovations           2540.268\n",
      "Date:                Tue, 10 Nov 2020   AIC                           1472.300\n",
      "Time:                        12:17:41   BIC                           1481.777\n",
      "Sample:                    02-01-2010   HQIC                          1476.097\n",
      "                         - 08-01-2016                                         \n",
      "=================================================================================\n",
      "                    coef    std err          z      P>|z|      [0.025      0.975]\n",
      "---------------------------------------------------------------------------------\n",
      "const          2653.9776    960.592      2.763      0.006     771.253    4536.702\n",
      "ar.L1.D.value     1.1277      0.103     10.961      0.000       0.926       1.329\n",
      "ar.L2.D.value    -0.4219      0.104     -4.066      0.000      -0.625      -0.219\n",
      "                                    Roots                                    \n",
      "=============================================================================\n",
      "                  Real          Imaginary           Modulus         Frequency\n",
      "-----------------------------------------------------------------------------\n",
      "AR.1            1.3363           -0.7644j            1.5395           -0.0827\n",
      "AR.2            1.3363           +0.7644j            1.5395            0.0827\n",
      "-----------------------------------------------------------------------------\n",
      "2551.224406372213\n",
      "6036.285568965864\n"
     ]
    }
   ],
   "source": [
    "ar2_2010 = ARIMA(df_60657_post_2010_train, (2,1,0), freq='MS').fit()\n",
    "y_hat_ar2_2010 = ar2_2010.predict(typ='levels')\n",
    "rmse_ar2_2010 = np.sqrt(mean_squared_error(df_60657_post_2010_train[1:], y_hat_ar2_2010))\n",
    "\n",
    "y_hat_ar2_2010_test = ar2_2010.predict(start='2016-09-01', end='2018-04-01', typ='levels')\n",
    "rmse_ar2_2010_test = np.sqrt(mean_squared_error(df_60657_post_2010_test, y_hat_ar2_2010_test))\n",
    "\n",
    "print(ar2_2010.summary())\n",
    "print(rmse_ar2_2010)\n",
    "print(rmse_ar2_2010_test)"
   ]
  },
  {
   "cell_type": "code",
   "execution_count": 195,
   "metadata": {},
   "outputs": [
    {
     "name": "stdout",
     "output_type": "stream",
     "text": [
      "4416.018579940594 4639.840913019034\n",
      "1415.2285558262665 2797.5845159676855\n",
      "1326.6212480746779 2551.224406372213\n"
     ]
    }
   ],
   "source": [
    "print(rmse_rw, rmse_rw_2010)\n",
    "print(rmse_ar1, rmse_ar1_2010)\n",
    "print(rmse_ar2, rmse_ar2_2010)"
   ]
  },
  {
   "cell_type": "code",
   "execution_count": 40,
   "metadata": {},
   "outputs": [
    {
     "name": "stdout",
     "output_type": "stream",
     "text": [
      "33134.3550595611 7191.780818707958\n",
      "98250.83876977155 9002.837243025557\n",
      "79799.8258968787 6036.285568965864\n"
     ]
    }
   ],
   "source": [
    "print(rmse_test_rw, rmse_rw_2010_test)\n",
    "print(rmse_test_ar1, rmse_ar1_2010_test)\n",
    "print(rmse_test_ar2, rmse_ar2_2010_test)"
   ]
  },
  {
   "cell_type": "markdown",
   "metadata": {},
   "source": [
    "---\n",
    "\n",
    "# 30331"
   ]
  },
  {
   "cell_type": "code",
   "execution_count": 163,
   "metadata": {},
   "outputs": [
    {
     "data": {
      "text/html": [
       "<div>\n",
       "<style scoped>\n",
       "    .dataframe tbody tr th:only-of-type {\n",
       "        vertical-align: middle;\n",
       "    }\n",
       "\n",
       "    .dataframe tbody tr th {\n",
       "        vertical-align: top;\n",
       "    }\n",
       "\n",
       "    .dataframe thead th {\n",
       "        text-align: right;\n",
       "    }\n",
       "</style>\n",
       "<table border=\"1\" class=\"dataframe\">\n",
       "  <thead>\n",
       "    <tr style=\"text-align: right;\">\n",
       "      <th></th>\n",
       "      <th>RegionID</th>\n",
       "      <th>RegionName</th>\n",
       "      <th>City</th>\n",
       "      <th>State</th>\n",
       "      <th>Metro</th>\n",
       "      <th>CountyName</th>\n",
       "      <th>SizeRank</th>\n",
       "      <th>value</th>\n",
       "    </tr>\n",
       "    <tr>\n",
       "      <th>time</th>\n",
       "      <th></th>\n",
       "      <th></th>\n",
       "      <th></th>\n",
       "      <th></th>\n",
       "      <th></th>\n",
       "      <th></th>\n",
       "      <th></th>\n",
       "      <th></th>\n",
       "    </tr>\n",
       "  </thead>\n",
       "  <tbody>\n",
       "    <tr>\n",
       "      <th>2010-01-01</th>\n",
       "      <td>71050</td>\n",
       "      <td>30331</td>\n",
       "      <td>Atlanta</td>\n",
       "      <td>GA</td>\n",
       "      <td>Atlanta</td>\n",
       "      <td>Fulton</td>\n",
       "      <td>228</td>\n",
       "      <td>114600.0</td>\n",
       "    </tr>\n",
       "    <tr>\n",
       "      <th>2010-02-01</th>\n",
       "      <td>71050</td>\n",
       "      <td>30331</td>\n",
       "      <td>Atlanta</td>\n",
       "      <td>GA</td>\n",
       "      <td>Atlanta</td>\n",
       "      <td>Fulton</td>\n",
       "      <td>228</td>\n",
       "      <td>114300.0</td>\n",
       "    </tr>\n",
       "    <tr>\n",
       "      <th>2010-03-01</th>\n",
       "      <td>71050</td>\n",
       "      <td>30331</td>\n",
       "      <td>Atlanta</td>\n",
       "      <td>GA</td>\n",
       "      <td>Atlanta</td>\n",
       "      <td>Fulton</td>\n",
       "      <td>228</td>\n",
       "      <td>111800.0</td>\n",
       "    </tr>\n",
       "    <tr>\n",
       "      <th>2010-04-01</th>\n",
       "      <td>71050</td>\n",
       "      <td>30331</td>\n",
       "      <td>Atlanta</td>\n",
       "      <td>GA</td>\n",
       "      <td>Atlanta</td>\n",
       "      <td>Fulton</td>\n",
       "      <td>228</td>\n",
       "      <td>106600.0</td>\n",
       "    </tr>\n",
       "    <tr>\n",
       "      <th>2010-05-01</th>\n",
       "      <td>71050</td>\n",
       "      <td>30331</td>\n",
       "      <td>Atlanta</td>\n",
       "      <td>GA</td>\n",
       "      <td>Atlanta</td>\n",
       "      <td>Fulton</td>\n",
       "      <td>228</td>\n",
       "      <td>101600.0</td>\n",
       "    </tr>\n",
       "    <tr>\n",
       "      <th>...</th>\n",
       "      <td>...</td>\n",
       "      <td>...</td>\n",
       "      <td>...</td>\n",
       "      <td>...</td>\n",
       "      <td>...</td>\n",
       "      <td>...</td>\n",
       "      <td>...</td>\n",
       "      <td>...</td>\n",
       "    </tr>\n",
       "    <tr>\n",
       "      <th>2017-12-01</th>\n",
       "      <td>71050</td>\n",
       "      <td>30331</td>\n",
       "      <td>Atlanta</td>\n",
       "      <td>GA</td>\n",
       "      <td>Atlanta</td>\n",
       "      <td>Fulton</td>\n",
       "      <td>228</td>\n",
       "      <td>137000.0</td>\n",
       "    </tr>\n",
       "    <tr>\n",
       "      <th>2018-01-01</th>\n",
       "      <td>71050</td>\n",
       "      <td>30331</td>\n",
       "      <td>Atlanta</td>\n",
       "      <td>GA</td>\n",
       "      <td>Atlanta</td>\n",
       "      <td>Fulton</td>\n",
       "      <td>228</td>\n",
       "      <td>139400.0</td>\n",
       "    </tr>\n",
       "    <tr>\n",
       "      <th>2018-02-01</th>\n",
       "      <td>71050</td>\n",
       "      <td>30331</td>\n",
       "      <td>Atlanta</td>\n",
       "      <td>GA</td>\n",
       "      <td>Atlanta</td>\n",
       "      <td>Fulton</td>\n",
       "      <td>228</td>\n",
       "      <td>140800.0</td>\n",
       "    </tr>\n",
       "    <tr>\n",
       "      <th>2018-03-01</th>\n",
       "      <td>71050</td>\n",
       "      <td>30331</td>\n",
       "      <td>Atlanta</td>\n",
       "      <td>GA</td>\n",
       "      <td>Atlanta</td>\n",
       "      <td>Fulton</td>\n",
       "      <td>228</td>\n",
       "      <td>141500.0</td>\n",
       "    </tr>\n",
       "    <tr>\n",
       "      <th>2018-04-01</th>\n",
       "      <td>71050</td>\n",
       "      <td>30331</td>\n",
       "      <td>Atlanta</td>\n",
       "      <td>GA</td>\n",
       "      <td>Atlanta</td>\n",
       "      <td>Fulton</td>\n",
       "      <td>228</td>\n",
       "      <td>141600.0</td>\n",
       "    </tr>\n",
       "  </tbody>\n",
       "</table>\n",
       "<p>100 rows × 8 columns</p>\n",
       "</div>"
      ],
      "text/plain": [
       "            RegionID  RegionName     City State    Metro CountyName  SizeRank  \\\n",
       "time                                                                            \n",
       "2010-01-01     71050       30331  Atlanta    GA  Atlanta     Fulton       228   \n",
       "2010-02-01     71050       30331  Atlanta    GA  Atlanta     Fulton       228   \n",
       "2010-03-01     71050       30331  Atlanta    GA  Atlanta     Fulton       228   \n",
       "2010-04-01     71050       30331  Atlanta    GA  Atlanta     Fulton       228   \n",
       "2010-05-01     71050       30331  Atlanta    GA  Atlanta     Fulton       228   \n",
       "...              ...         ...      ...   ...      ...        ...       ...   \n",
       "2017-12-01     71050       30331  Atlanta    GA  Atlanta     Fulton       228   \n",
       "2018-01-01     71050       30331  Atlanta    GA  Atlanta     Fulton       228   \n",
       "2018-02-01     71050       30331  Atlanta    GA  Atlanta     Fulton       228   \n",
       "2018-03-01     71050       30331  Atlanta    GA  Atlanta     Fulton       228   \n",
       "2018-04-01     71050       30331  Atlanta    GA  Atlanta     Fulton       228   \n",
       "\n",
       "               value  \n",
       "time                  \n",
       "2010-01-01  114600.0  \n",
       "2010-02-01  114300.0  \n",
       "2010-03-01  111800.0  \n",
       "2010-04-01  106600.0  \n",
       "2010-05-01  101600.0  \n",
       "...              ...  \n",
       "2017-12-01  137000.0  \n",
       "2018-01-01  139400.0  \n",
       "2018-02-01  140800.0  \n",
       "2018-03-01  141500.0  \n",
       "2018-04-01  141600.0  \n",
       "\n",
       "[100 rows x 8 columns]"
      ]
     },
     "execution_count": 163,
     "metadata": {},
     "output_type": "execute_result"
    }
   ],
   "source": [
    "df_atl[df_atl.City == 'Atlanta']"
   ]
  },
  {
   "cell_type": "code",
   "execution_count": 208,
   "metadata": {},
   "outputs": [
    {
     "name": "stdout",
     "output_type": "stream",
     "text": [
      "shape of train and test datasets: (212,) (53,) \n",
      "\n",
      "                             ARIMA Model Results                              \n",
      "==============================================================================\n",
      "Dep. Variable:               D2.value   No. Observations:                  210\n",
      "Model:                 ARIMA(1, 2, 2)   Log Likelihood               -1787.879\n",
      "Method:                       css-mle   S.D. of innovations           1203.807\n",
      "Date:                Tue, 10 Nov 2020   AIC                           3585.758\n",
      "Time:                        19:15:41   BIC                           3602.494\n",
      "Sample:                    06-01-1996   HQIC                          3592.524\n",
      "                         - 11-01-2013                                         \n",
      "==================================================================================\n",
      "                     coef    std err          z      P>|z|      [0.025      0.975]\n",
      "----------------------------------------------------------------------------------\n",
      "const              0.9831     64.992      0.015      0.988    -126.400     128.366\n",
      "ar.L1.D2.value     0.6483      0.118      5.514      0.000       0.418       0.879\n",
      "ma.L1.D2.value    -0.1585      0.098     -1.614      0.107      -0.351       0.034\n",
      "ma.L2.D2.value    -0.5708      0.060     -9.446      0.000      -0.689      -0.452\n",
      "                                    Roots                                    \n",
      "=============================================================================\n",
      "                  Real          Imaginary           Modulus         Frequency\n",
      "-----------------------------------------------------------------------------\n",
      "AR.1            1.5426           +0.0000j            1.5426            0.0000\n",
      "MA.1            1.1920           +0.0000j            1.1920            0.0000\n",
      "MA.2           -1.4697           +0.0000j            1.4697            0.5000\n",
      "----------------------------------------------------------------------------- \n",
      "\n",
      "train rmse: 1203.8286385553836 \n",
      "\n",
      "test rmse: 68653.44226313294 \n",
      "\n"
     ]
    },
    {
     "data": {
      "image/png": "[encoded data removed]",
      "text/plain": [
       "<Figure size 1008x360 with 1 Axes>"
      ]
     },
     "metadata": {
      "needs_background": "light"
     },
     "output_type": "display_data"
    }
   ],
   "source": [
    "zip_code = 60657    # change these params\n",
    "start_year = 1996   # change these params (1996 or 2010)\n",
    "ar, i, ma = [1,2,2] # change these params\n",
    "\n",
    "df_zip_code = df_lf[(df_lf.RegionName== zip_code) & (df_lf.index.year >= start_year)]\n",
    "\n",
    "eoti = round(df_zip_code.shape[0] * .8)\n",
    "df_zip_code_train = df_zip_code.value[:eoti]\n",
    "df_zip_code_test = df_zip_code.value[eoti:]\n",
    "\n",
    "print(\"shape of train and test datasets:\", df_zip_code_train.shape, df_zip_code_test.shape, '\\n')\n",
    "\n",
    "model = ARIMA(df_zip_code_train, (ar,i,ma), freq='MS').fit()\n",
    "y_hat_model = model.predict(typ='levels')\n",
    "rmse_model = np.sqrt(mean_squared_error(df_zip_code_train[i:], y_hat_model))\n",
    "\n",
    "\n",
    "test_start_dt = df_zip_code_test.index[0]\n",
    "test_end_dt = df_zip_code_test.index[-1]\n",
    "y_hat_model_test = model.predict(start=test_start_dt, end=test_end_dt, typ='levels')\n",
    "rmse_model_test = np.sqrt(mean_squared_error(df_zip_code_test, y_hat_model_test))\n",
    "\n",
    "print(model.summary(), '\\n')\n",
    "print('train rmse:', rmse_model, '\\n')\n",
    "print('test rmse:', rmse_model_test, '\\n')\n",
    "\n",
    "plt.subplots(figsize=(14,5))\n",
    "plt.plot(df_zip_code_train, label='train')\n",
    "plt.plot(df_zip_code_test, label='test')\n",
    "plt.plot(y_hat_model_test, label='predicted')\n",
    "plt.legend(loc=\"upper left\");"
   ]
  },
  {
   "cell_type": "code",
   "execution_count": 232,
   "metadata": {},
   "outputs": [
    {
     "name": "stdout",
     "output_type": "stream",
     "text": [
      "shape of train and test datasets: (80,) (20,) \n",
      "\n",
      "                             ARIMA Model Results                              \n",
      "==============================================================================\n",
      "Dep. Variable:               D2.value   No. Observations:                   78\n",
      "Model:                 ARIMA(1, 2, 2)   Log Likelihood                -715.071\n",
      "Method:                       css-mle   S.D. of innovations           2268.021\n",
      "Date:                Tue, 10 Nov 2020   AIC                           1440.142\n",
      "Time:                        22:49:26   BIC                           1451.925\n",
      "Sample:                    03-01-2010   HQIC                          1444.859\n",
      "                         - 08-01-2016                                         \n",
      "==================================================================================\n",
      "                     coef    std err          z      P>|z|      [0.025      0.975]\n",
      "----------------------------------------------------------------------------------\n",
      "const             78.4541     43.165      1.818      0.069      -6.149     163.057\n",
      "ar.L1.D2.value     0.5823      0.100      5.822      0.000       0.386       0.778\n",
      "ma.L1.D2.value    -0.2796      0.085     -3.292      0.001      -0.446      -0.113\n",
      "ma.L2.D2.value    -0.7204      0.078     -9.266      0.000      -0.873      -0.568\n",
      "                                    Roots                                    \n",
      "=============================================================================\n",
      "                  Real          Imaginary           Modulus         Frequency\n",
      "-----------------------------------------------------------------------------\n",
      "AR.1            1.7173           +0.0000j            1.7173            0.0000\n",
      "MA.1            1.0000           +0.0000j            1.0000            0.0000\n",
      "MA.2           -1.3882           +0.0000j            1.3882            0.5000\n",
      "----------------------------------------------------------------------------- \n",
      "\n",
      "train rmse: 2340.7728809151317 \n",
      "\n",
      "test rmse: 39220.140973268164 \n",
      "\n"
     ]
    },
    {
     "data": {
      "image/png": "[encoded data removed]",
      "text/plain": [
       "<Figure size 1008x360 with 1 Axes>"
      ]
     },
     "metadata": {
      "needs_background": "light"
     },
     "output_type": "display_data"
    }
   ],
   "source": [
    "zip_code = 60657    # change these params\n",
    "start_year = 2010   # change these params (1996 or 2010)\n",
    "ar, i, ma = [1,2,2] # change these params\n",
    "\n",
    "df_zip_code = df_lf[(df_lf.RegionName== zip_code) & (df_lf.index.year >= start_year)]\n",
    "\n",
    "eoti = round(df_zip_code.shape[0] * .8)\n",
    "df_zip_code_train = df_zip_code.value[:eoti]\n",
    "df_zip_code_test = df_zip_code.value[eoti:]\n",
    "\n",
    "print(\"shape of train and test datasets:\", df_zip_code_train.shape, df_zip_code_test.shape, '\\n')\n",
    "\n",
    "model = ARIMA(df_zip_code_train, (ar,i,ma), freq='MS').fit()\n",
    "y_hat_model = model.predict(typ='levels')\n",
    "rmse_model = np.sqrt(mean_squared_error(df_zip_code_train[i:], y_hat_model))\n",
    "\n",
    "test_start_dt = df_zip_code_test.index[0]\n",
    "test_end_dt = df_zip_code_test.index[-1]\n",
    "y_hat_model_test = model.predict(start=test_start_dt, end=test_end_dt, typ='levels')\n",
    "rmse_model_test = np.sqrt(mean_squared_error(df_zip_code_test, y_hat_model_test))\n",
    "\n",
    "print(model.summary(), '\\n')\n",
    "print('train rmse:', rmse_model, '\\n')\n",
    "print('test rmse:', rmse_model_test, '\\n')\n",
    "\n",
    "plt.subplots(figsize=(14,5))\n",
    "plt.plot(df_zip_code_train, label='train')\n",
    "plt.plot(df_zip_code_test, label='test')\n",
    "plt.plot(y_hat_model_test, label='predicted')\n",
    "plt.legend(loc=\"upper left\");"
   ]
  },
  {
   "cell_type": "code",
   "execution_count": 229,
   "metadata": {},
   "outputs": [
    {
     "name": "stdout",
     "output_type": "stream",
     "text": [
      "shape of train and test datasets: (61,) (15,) \n",
      "\n",
      "                             ARIMA Model Results                              \n",
      "==============================================================================\n",
      "Dep. Variable:               D2.value   No. Observations:                   59\n",
      "Model:                 ARIMA(1, 2, 2)   Log Likelihood                -539.673\n",
      "Method:                       css-mle   S.D. of innovations           2206.611\n",
      "Date:                Tue, 10 Nov 2020   AIC                           1089.346\n",
      "Time:                        19:40:43   BIC                           1099.734\n",
      "Sample:                    03-01-2012   HQIC                          1093.401\n",
      "                         - 01-01-2017                                         \n",
      "==================================================================================\n",
      "                     coef    std err          z      P>|z|      [0.025      0.975]\n",
      "----------------------------------------------------------------------------------\n",
      "const            -30.6452     58.870     -0.521      0.603    -146.027      84.737\n",
      "ar.L1.D2.value     0.5415      0.130      4.166      0.000       0.287       0.796\n",
      "ma.L1.D2.value    -0.2254      0.090     -2.499      0.012      -0.402      -0.049\n",
      "ma.L2.D2.value    -0.7746      0.086     -9.036      0.000      -0.943      -0.607\n",
      "                                    Roots                                    \n",
      "=============================================================================\n",
      "                  Real          Imaginary           Modulus         Frequency\n",
      "-----------------------------------------------------------------------------\n",
      "AR.1            1.8467           +0.0000j            1.8467            0.0000\n",
      "MA.1            1.0000           +0.0000j            1.0000            0.0000\n",
      "MA.2           -1.2910           +0.0000j            1.2910            0.5000\n",
      "----------------------------------------------------------------------------- \n",
      "\n",
      "train rmse: 2315.209584334688 \n",
      "\n",
      "test rmse: 3883.666206984945 \n",
      "\n",
      "model aic: 1089.345834207974 \n",
      "\n"
     ]
    },
    {
     "data": {
      "image/png": "[encoded data removed]",
      "text/plain": [
       "<Figure size 1008x360 with 1 Axes>"
      ]
     },
     "metadata": {
      "needs_background": "light"
     },
     "output_type": "display_data"
    }
   ],
   "source": [
    "zip_code = 60657    # change these params\n",
    "start_year = 2012   # change these params (1996 or 2010)\n",
    "ar, i, ma = [1,2,2] # change these params\n",
    "\n",
    "df_zip_code = df_lf[(df_lf.RegionName== zip_code) & (df_lf.index.year >= start_year)]\n",
    "\n",
    "eoti = round(df_zip_code.shape[0] * .8)\n",
    "df_zip_code_train = df_zip_code.value[:eoti]\n",
    "df_zip_code_test = df_zip_code.value[eoti:]\n",
    "\n",
    "print(\"shape of train and test datasets:\", df_zip_code_train.shape, df_zip_code_test.shape, '\\n')\n",
    "\n",
    "model = ARIMA(df_zip_code_train, (ar,i,ma), freq='MS').fit()\n",
    "y_hat_model = model.predict(typ='levels')\n",
    "rmse_model = np.sqrt(mean_squared_error(df_zip_code_train[i:], y_hat_model))\n",
    "\n",
    "test_start_dt = df_zip_code_test.index[0]\n",
    "test_end_dt = df_zip_code_test.index[-1]\n",
    "y_hat_model_test = model.predict(start=test_start_dt, end=test_end_dt, typ='levels')\n",
    "rmse_model_test = np.sqrt(mean_squared_error(df_zip_code_test, y_hat_model_test))\n",
    "\n",
    "print(model.summary(), '\\n')\n",
    "print('train rmse:', rmse_model, '\\n')\n",
    "print('test rmse:', rmse_model_test, '\\n')\n",
    "print('model aic:', model.aic, '\\n')\n",
    "\n",
    "plt.subplots(figsize=(14,5))\n",
    "plt.plot(df_zip_code_train, label='train')\n",
    "plt.plot(df_zip_code_test, label='test')\n",
    "plt.plot(y_hat_model_test, label='predicted')\n",
    "plt.legend(loc=\"upper left\");"
   ]
  },
  {
   "cell_type": "code",
   "execution_count": 214,
   "metadata": {},
   "outputs": [
    {
     "data": {
      "text/plain": [
       "3"
      ]
     },
     "execution_count": 214,
     "metadata": {},
     "output_type": "execute_result"
    }
   ],
   "source": [
    "from statsmodels.tsa.stattools import adfuller\n",
    "\n",
    "def dicky_fuller(df):\n",
    "    i = 0\n",
    "    dftest = adfuller(np.diff(df,i), autolag='AIC')\n",
    "    test_stat = dftest[0]\n",
    "    critical_val_5 = dftest[4]['5%']\n",
    "    while test_stat > critical_val_5:\n",
    "        i+=1\n",
    "        dftest = adfuller(np.diff(df,i), autolag='AIC')\n",
    "        test_stat = dftest[0]\n",
    "        critical_val_5 = dftest[4]['5%']\n",
    "    return(i)\n",
    "    \n",
    "dicky_fuller(df_zip_code_train)"
   ]
  }
 ],
 "metadata": {
  "kernelspec": {
   "display_name": "Python 3",
   "language": "python",
   "name": "python3"
  },
  "language_info": {
   "codemirror_mode": {
    "name": "ipython",
    "version": 3
   },
   "file_extension": ".py",
   "mimetype": "text/x-python",
   "name": "python",
   "nbconvert_exporter": "python",
   "pygments_lexer": "ipython3",
   "version": "3.8.3"
  }
 },
 "nbformat": 4,
 "nbformat_minor": 4
}

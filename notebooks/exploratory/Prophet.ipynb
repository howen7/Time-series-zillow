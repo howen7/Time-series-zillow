{
 "cells": [
  {
   "cell_type": "markdown",
   "metadata": {},
   "source": [
    "# Structure of notebook\n",
    " > Basic prophet model on top 50 zipcodes <br>\n",
    " > How we chose the top 5 <br>\n",
    " > Optimize Parameters for 5 top Zipcodes Using Grid<br>"
   ]
  },
  {
   "cell_type": "code",
   "execution_count": null,
   "metadata": {},
   "outputs": [],
   "source": [
    "import pandas as pd\n",
    "import numpy as np\n",
    "import matplotlib.pyplot as plt\n",
    "from fbprophet import Prophet\n",
    "from sklearn.metrics import mean_squared_error, mean_absolute_error\n",
    "from sklearn.model_selection import ParameterGrid"
   ]
  },
  {
   "cell_type": "code",
   "execution_count": null,
   "metadata": {},
   "outputs": [],
   "source": [
    "# dropping columns that arent needed\n",
    "df = pd.read_csv('../../src/data/zillow_data_lf.csv',)\n",
    "df.time = pd.to_datetime(df.time)\n",
    "df.drop(['RegionID','SizeRank'], axis = 1, inplace = True)\n",
    "df = df[pd.DatetimeIndex(df['time']).year >2009]\n",
    "df.head()"
   ]
  },
  {
   "cell_type": "markdown",
   "metadata": {},
   "source": [
    "# Modeling with prophet"
   ]
  },
  {
   "cell_type": "code",
   "execution_count": null,
   "metadata": {},
   "outputs": [],
   "source": [
    "def Prophet_func2(df, zipcodes, period, size_train):\n",
    "    \n",
    "    df_info = pd.DataFrame(dict(Zipcode=[], \n",
    "                                 Home_Value=[], \n",
    "                                 Future_Home_Value=[], \n",
    "                                 Percent_Increase=[],\n",
    "                                 RMSE = []))\n",
    "    \n",
    "    for zipcode in zipcodes:\n",
    "        \n",
    "       # selecting zipcode from df and changing time and value to ds and y\n",
    "        data= df[df['RegionName']== zipcode]\n",
    "        data = data[['time', 'value']]\n",
    "        data.columns = ['ds','y']\n",
    "        \n",
    "        # creating stop index\n",
    "        eotindex = round(data.shape[0] * size_train)\n",
    "        train = data[:eotindex]\n",
    "        test = data[eotindex:]\n",
    "        \n",
    "        train_size = train.shape[0]\n",
    "        test_size = test.shape[0]\n",
    "        freq = 'MS'\n",
    "        \n",
    "        value_now = int(data.y.tail(1))\n",
    "\n",
    "        # Prophet Func\n",
    "        model = Prophet(daily_seasonality= False, weekly_seasonality= False, interval_width=0.95)\n",
    "        model.fit(train)\n",
    "        future = model.make_future_dataframe(periods = period + test_size, freq = freq)\n",
    "        forecast = model.predict(future)\n",
    "\n",
    "        value_future = round(list(forecast.yhat)[-1],-2)\n",
    "        diff= value_future - value_now\n",
    "        rate_5_yrs = 100*(diff / value_now)\n",
    "        root_mse = (np.sqrt(mean_squared_error(test.y,forecast.yhat[train_size:test_size+train_size])))/(train.y.mean())\n",
    "\n",
    "        df_info = df_info.append({'Percent_Increase': rate_5_yrs,\n",
    "                                  'Home_Value': value_now, \n",
    "                                  'Future_Home_Value': value_future,\n",
    "                                  'Zipcode': zipcode,\n",
    "                                  'RMSE': root_mse}, ignore_index = True)\n",
    "                                    \n",
    "        df_info = df_info.astype('int64')\n",
    "    return df_info"
   ]
  },
  {
   "cell_type": "code",
   "execution_count": null,
   "metadata": {},
   "outputs": [],
   "source": [
    "zipcodes = [60089, 60565, 46321, 60564, 46304]\n",
    "period = 60\n",
    "size_train = .8\n",
    "\n",
    "Prophet_func2(df, zipcodes, period, size_train)"
   ]
  },
  {
   "cell_type": "markdown",
   "metadata": {},
   "source": [
    "# Optimizing Prophet"
   ]
  },
  {
   "cell_type": "code",
   "execution_count": null,
   "metadata": {},
   "outputs": [],
   "source": [
    "def optimized_params(df, zipcode, size_train):\n",
    "\n",
    "    model_parameters = pd.DataFrame(columns = ['RMSE','Parameters'])\n",
    "    \n",
    "    params_grid = {'seasonality_mode':('multiplicative','additive'),\n",
    "                   'changepoint_prior_scale':[0.1,0.3,.05],\n",
    "                   'n_changepoints' : [5,10,20]}\n",
    "    grid = ParameterGrid(params_grid)\n",
    "    \n",
    "    data= df[df['RegionName']== zipcode]\n",
    "    data = data[['time', 'value']]\n",
    "    data.columns = ['ds','y']\n",
    "\n",
    "    eotindex = round(data.shape[0] * size_train)\n",
    "    train = data[:eotindex]\n",
    "    test = data[eotindex:]\n",
    "\n",
    "    train_size = train.shape[0]\n",
    "    test_size = test.shape[0]\n",
    "    freq = 'MS'\n",
    "    period = 60\n",
    "\n",
    "    for p in grid:\n",
    "    \n",
    "        # Prophet Func\n",
    "        model = Prophet(changepoint_prior_scale = p['changepoint_prior_scale'],\n",
    "                             n_changepoints = p['n_changepoints'],\n",
    "                             seasonality_mode = p['seasonality_mode'],\n",
    "                             weekly_seasonality=False,\n",
    "                             daily_seasonality = False,\n",
    "                             yearly_seasonality = True,\n",
    "                             interval_width=0.95)\n",
    "        model.fit(train)\n",
    "        future = model.make_future_dataframe(periods = period + test_size, freq = freq)\n",
    "        forecast = model.predict(future)\n",
    "        root_mse = np.sqrt(mean_squared_error(test.y,forecast.yhat[train_size:test_size+train_size]))\n",
    "\n",
    "\n",
    "        model_parameters = model_parameters.append({'RMSE':root_mse,'Parameters':p},ignore_index=True)\n",
    "        \n",
    "        \n",
    "    return model_parameters"
   ]
  },
  {
   "cell_type": "code",
   "execution_count": null,
   "metadata": {},
   "outputs": [],
   "source": [
    "size_train = .8\n",
    "zipcode  = None\n",
    "df_30331 = optimized_params(df, zipcode, size_train)"
   ]
  },
  {
   "cell_type": "code",
   "execution_count": null,
   "metadata": {},
   "outputs": [],
   "source": [
    "parameters = model_parameters.sort_values(by=['RMSE']).reset_index(drop=True)\n",
    "parameters['Parameters'][0]"
   ]
  },
  {
   "cell_type": "markdown",
   "metadata": {},
   "source": [
    "# Visualizations of Model Using Optimized Params"
   ]
  },
  {
   "cell_type": "code",
   "execution_count": null,
   "metadata": {},
   "outputs": [],
   "source": [
    "data= df[df['RegionName']== 30331]\n",
    "data = data[['time', 'value']]\n",
    "data.columns = ['ds','y']\n",
    "\n",
    "eotindex = round(data.shape[0] * .8)\n",
    "train = data[:eotindex]\n",
    "test = data[eotindex:]\n",
    "\n",
    "train_size = train.shape[0]\n",
    "test_size = test.shape[0]\n",
    "freq = 'MS'\n",
    "period = 60"
   ]
  },
  {
   "cell_type": "code",
   "execution_count": null,
   "metadata": {},
   "outputs": [],
   "source": [
    "model = Prophet(changepoint_prior_scale = .5,\n",
    "                         n_changepoints = 20,\n",
    "                         seasonality_mode = 'additive',\n",
    "                         weekly_seasonality=False,\n",
    "                         daily_seasonality = False,\n",
    "                         yearly_seasonality = True,\n",
    "                         interval_width=0.8)\n",
    "model.fit(train)\n",
    "future = model.make_future_dataframe(periods = period + test_size, freq = freq)\n",
    "forecast = model.predict(future)"
   ]
  },
  {
   "cell_type": "code",
   "execution_count": null,
   "metadata": {},
   "outputs": [],
   "source": [
    "pd.plotting.register_matplotlib_converters()\n",
    "f, ax = plt.subplots(figsize=(14,5))\n",
    "train.plot(kind='line', x='ds', y='y', color='blue', label='Train', ax=ax)\n",
    "test.plot(kind='line', x='ds', y='y', color='red', label='test', ax=ax)\n",
    "forecast.loc[train_size:data.shape[0]-1].plot(kind='line', x='ds', y='yhat', color='Black', label='Predicted', ax=ax)\n",
    "plt.title('Sales Amount Traning and Test data')\n",
    "plt.show()"
   ]
  },
  {
   "cell_type": "code",
   "execution_count": null,
   "metadata": {},
   "outputs": [],
   "source": [
    "root_mse = np.sqrt(mean_squared_error(test.y,forecast.yhat[train_size:test_size+train_size]))\n",
    "root_mse"
   ]
  }
 ],
 "metadata": {
  "kernelspec": {
   "display_name": "Python 3",
   "language": "python",
   "name": "python3"
  },
  "language_info": {
   "codemirror_mode": {
    "name": "ipython",
    "version": 3
   },
   "file_extension": ".py",
   "mimetype": "text/x-python",
   "name": "python",
   "nbconvert_exporter": "python",
   "pygments_lexer": "ipython3",
   "version": "3.8.3"
  }
 },
 "nbformat": 4,
 "nbformat_minor": 4
}
